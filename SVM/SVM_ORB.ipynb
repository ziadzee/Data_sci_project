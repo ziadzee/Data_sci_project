{
 "cells": [
  {
   "cell_type": "markdown",
   "metadata": {
    "id": "L-AgeuZX3gmG"
   },
   "source": [
    "# Ziad Al-Ziadi"
   ]
  },
  {
   "cell_type": "code",
   "execution_count": null,
   "metadata": {
    "id": "4ceru9OuPx08"
   },
   "outputs": [],
   "source": []
  },
  {
   "cell_type": "markdown",
   "metadata": {
    "id": "J-msM52t3kAH"
   },
   "source": [
    "## Facial Emotion Recognition with SVM and ORB (Oriented FAST and Rotated BRIEF)\n",
    "\n",
    "In the preceding section, we will implement several variations of a Facial Emotion Recognition (FER) solution. It will include a Support Vector Machine (SVM). The SVM will be used with ORB and will make use of the Real-world Affective Faces (RAF) dataset consisting of facial images that depcit emotions that are labeled as:\n",
    "\n",
    "1: Surprise\n",
    "2: Fear\n",
    "3: Disgust\n",
    "4: Happiness\n",
    "5: Sadness\n",
    "6: Anger\n",
    "7: Neutral\n",
    "\n",
    "Ultimately, the objective is to have the SVM accurately predict the emotions in unseen images."
   ]
  },
  {
   "cell_type": "code",
   "execution_count": null,
   "metadata": {
    "colab": {
     "base_uri": "https://localhost:8080/"
    },
    "executionInfo": {
     "elapsed": 32541,
     "status": "ok",
     "timestamp": 1619637578426,
     "user": {
      "displayName": "Ziad Al-Ziadi",
      "photoUrl": "",
      "userId": "14694040966387240326"
     },
     "user_tz": -60
    },
    "id": "sCE7AkC_3i_o",
    "outputId": "01345150-3877-4129-b945-2d69b1593193"
   },
   "outputs": [
    {
     "name": "stdout",
     "output_type": "stream",
     "text": [
      "Mounted at /content/drive/\n"
     ]
    }
   ],
   "source": [
    "from google.colab import drive\n",
    "drive.mount('/content/drive/')"
   ]
  },
  {
   "cell_type": "code",
   "execution_count": null,
   "metadata": {
    "id": "FH2bvcJN6j7L"
   },
   "outputs": [],
   "source": [
    "import numpy as np \n",
    "import pandas as pd \n",
    "import seaborn as sns\n",
    "import matplotlib.pyplot as plt \n",
    "\n",
    "import cv2\n",
    "from sklearn.model_selection import train_test_split\n",
    "from skimage import img_as_ubyte, io, color\n",
    "from sklearn.cluster import MiniBatchKMeans\n",
    "from sklearn import svm, metrics\n",
    "import matplotlib.pyplot as plt\n",
    "import numpy as np\n",
    "from collections import Counter\n",
    "from sklearn.svm import SVC\n",
    "import sklearn.metrics\n",
    "from sklearn.metrics import classification_report\n",
    "from sklearn.model_selection import GridSearchCV\n",
    "\n",
    "%matplotlib inline"
   ]
  },
  {
   "cell_type": "code",
   "execution_count": null,
   "metadata": {
    "id": "CstG5pi96wgu"
   },
   "outputs": [],
   "source": [
    "zip_path = \"/content/drive/MyDrive/Comp_vis_CW/CW_Dataset.zip\"\n",
    "!cp \"{zip_path}\" .\n",
    "!yes|unzip -q CW_Dataset.zip"
   ]
  },
  {
   "cell_type": "code",
   "execution_count": null,
   "metadata": {
    "id": "0G6PVGx66yOX"
   },
   "outputs": [],
   "source": [
    "# Creating the test and trian path\n",
    "\n",
    "train_image_path = \"/content/train\"\n",
    "test_image_path = \"/content/test\"\n",
    "\n",
    "train_txt = \"/content/labels/list_label_train.txt\"\n",
    "test_txt = \"/content/labels/list_label_test.txt\"\n",
    "\n",
    "# Creating a dataframe from our label txt files\n",
    "\n",
    "colnames = [\"Image_id\", \"Label\"]\n",
    "train_lab = pd.read_csv(train_txt, names = colnames, header = None, delim_whitespace = True)\n",
    "test_lab = pd.read_csv(test_txt, names = colnames, header = None, delim_whitespace = True)"
   ]
  },
  {
   "cell_type": "code",
   "execution_count": null,
   "metadata": {
    "id": "IDnu5fbK6zvr"
   },
   "outputs": [],
   "source": [
    "# Here, I'm cleaning the label string to isolate the label value\n",
    "\n",
    "train_lab[\"Image_id\"] = train_lab[\"Image_id\"].apply(lambda i: i[:-4])\n",
    "test_lab[\"Image_id\"] = test_lab[\"Image_id\"].apply(lambda i: i[:-4])\n",
    "\n",
    "# I append the string \"_aligned.jpg\" so that it matches our image names\n",
    "\n",
    "train_lab[\"Image_id\"] = train_lab[\"Image_id\"] + \"_aligned.jpg\"\n",
    "test_lab[\"Image_id\"] = test_lab[\"Image_id\"] + \"_aligned.jpg\"\n",
    "\n",
    "# Here, I carry out a little bit of renidexing: note I have to +1 after to maintain correct label value\n",
    "\n",
    "train_lab[\"Label\"] = train_lab[\"Label\"].apply(lambda i: i - 1)\n",
    "train_lab[\"Label\"] = train_lab[\"Label\"].apply(lambda i: i + 1)\n",
    "\n",
    "test_lab[\"Label\"] = test_lab[\"Label\"].apply(lambda i: i - 1)\n",
    "test_lab[\"Label\"] = test_lab[\"Label\"].apply(lambda i: i + 1)"
   ]
  },
  {
   "cell_type": "code",
   "execution_count": null,
   "metadata": {
    "id": "CY6-SSI5606L"
   },
   "outputs": [],
   "source": [
    "# This function takes a dataframe and applies the ORB descriptor\n",
    "\n",
    "def orb_des(data_frame):\n",
    "\n",
    "  orb_img = []\n",
    "  labels = []\n",
    "\n",
    "  for i, row in data_frame.iterrows():\n",
    "    img_path = \"/content/train/\"\n",
    "    img_name = row[0]\n",
    "    lbl = row[1]\n",
    "\n",
    "    img_path += str(img_name)\n",
    "    img = cv2.imread(img_path)\n",
    "    orb = cv2.ORB_create()\n",
    "    kp, des = orb.detectAndCompute(img, None)\n",
    "    # kp, des = orb.compute(img, kp)\n",
    "    if des is not None:\n",
    "      orb_img.append(des)\n",
    "      labels.append(lbl)\n",
    "  orb_array = np.vstack(orb_img)\n",
    "\n",
    "  return orb_array, labels"
   ]
  },
  {
   "cell_type": "code",
   "execution_count": null,
   "metadata": {
    "colab": {
     "base_uri": "https://localhost:8080/",
     "height": 285
    },
    "executionInfo": {
     "elapsed": 53006,
     "status": "ok",
     "timestamp": 1619637598913,
     "user": {
      "displayName": "Ziad Al-Ziadi",
      "photoUrl": "",
      "userId": "14694040966387240326"
     },
     "user_tz": -60
    },
    "id": "wa5jJyaN7lia",
    "outputId": "55127dad-f619-4125-8f26-ed688308fe82"
   },
   "outputs": [
    {
     "data": {
      "image/png": "[encoded data removed]",
      "text/plain": [
       "<Figure size 432x288 with 1 Axes>"
      ]
     },
     "metadata": {
      "needs_background": "light",
      "tags": []
     },
     "output_type": "display_data"
    },
    {
     "data": {
      "text/plain": [
       "(<matplotlib.image.AxesImage at 0x7f11113a32d0>, None)"
      ]
     },
     "execution_count": 7,
     "metadata": {
      "tags": []
     },
     "output_type": "execute_result"
    }
   ],
   "source": [
    "for i, row in train_lab.iterrows():\n",
    "  img_path = \"/content/train/\"\n",
    "  img_name = row[0]\n",
    "\n",
    "  img_path += str(img_name)\n",
    "  img = cv2.imread(img_path)\n",
    "  orb = cv2.ORB_create()\n",
    "  kp, des = orb.detectAndCompute(img, None)\n",
    "\n",
    "img2 = cv2.drawKeypoints(img,kp,img, flags=0, color=(0,255,0))\n",
    "plt.imshow(img2),plt.show()"
   ]
  },
  {
   "cell_type": "code",
   "execution_count": null,
   "metadata": {
    "id": "kavrmLeF9Nia"
   },
   "outputs": [],
   "source": [
    "# Applying ORB to our training set dataframe\n",
    "\n",
    "orb_train, orb_train_lab = orb_des(train_lab)\n",
    "\n",
    "# As per Lab 07, here we intialise the clustering of the descriptors to implement a BoVW approach\n",
    "\n",
    "cluster = len(np.unique(orb_train_lab)) * 10\n",
    "batch_size = orb_train.shape[0] // 4\n",
    "k_means = MiniBatchKMeans(n_clusters = cluster, batch_size=batch_size).fit(orb_train)"
   ]
  },
  {
   "cell_type": "code",
   "execution_count": null,
   "metadata": {
    "id": "m1Az8cAVgxyr"
   },
   "outputs": [],
   "source": [
    "# Here, we slightly re-format the ORB image array in similar fashion to our inital ORB function\n",
    "\n",
    "orb_img = []\n",
    "\n",
    "for i, row in train_lab.iterrows():\n",
    "  img_path = \"/content/train/\"\n",
    "  img_name = row[0]\n",
    "  img_path += str(img_name)\n",
    "  img = cv2.imread(img_path)\n",
    "  orb = cv2.ORB_create()\n",
    "  kp, des = orb.detectAndCompute(img, None)\n",
    "  if des is not None:\n",
    "    orb_img.append(des)\n",
    "\n",
    "img_list = []\n",
    "\n",
    "# Here, we obtain the histograms for each image\n",
    "for x in orb_img:\n",
    "    hist = np.zeros(cluster)\n",
    "\n",
    "    idx = k_means.predict(x)\n",
    "    for y in idx:\n",
    "        hist[y] = hist[y] + (1 / len(x))\n",
    "    img_list.append(hist)\n",
    "orb_hist = np.vstack(img_list)"
   ]
  },
  {
   "cell_type": "code",
   "execution_count": null,
   "metadata": {
    "id": "7G0illZsArtX"
   },
   "outputs": [],
   "source": [
    "# Now we can split our training data into X_train and y_train\n",
    "\n",
    "X_train, _, y_train, _ = train_test_split(orb_hist, orb_train_lab, test_size = 0.1, shuffle=True)"
   ]
  },
  {
   "cell_type": "code",
   "execution_count": null,
   "metadata": {
    "colab": {
     "base_uri": "https://localhost:8080/"
    },
    "executionInfo": {
     "elapsed": 136167,
     "status": "ok",
     "timestamp": 1619637682088,
     "user": {
      "displayName": "Ziad Al-Ziadi",
      "photoUrl": "",
      "userId": "14694040966387240326"
     },
     "user_tz": -60
    },
    "id": "QEr8WyNdBC5d",
    "outputId": "c6433c96-7bfe-4933-f351-6a6e180a9f9e"
   },
   "outputs": [
    {
     "data": {
      "text/plain": [
       "SVC(C=1.0, break_ties=False, cache_size=200, class_weight=None, coef0=0.0,\n",
       "    decision_function_shape='ovr', degree=3, gamma='scale', kernel='rbf',\n",
       "    max_iter=-1, probability=False, random_state=None, shrinking=True,\n",
       "    tol=0.001, verbose=False)"
      ]
     },
     "execution_count": 11,
     "metadata": {
      "tags": []
     },
     "output_type": "execute_result"
    }
   ],
   "source": [
    "#Initialising our first SVM \n",
    "\n",
    "clf = svm.SVC(kernel = \"rbf\")\n",
    "clf.fit(X_train, y_train)"
   ]
  },
  {
   "cell_type": "code",
   "execution_count": null,
   "metadata": {
    "id": "hHLUX-z0BhGm"
   },
   "outputs": [],
   "source": [
    "# Once our SVM has been trained on our training set, we can evaluate on our test\n",
    "\n",
    "# Reading in test data\n",
    "\n",
    "test_img = []\n",
    "test_labels = []\n",
    "\n",
    "for i, row in test_lab.iterrows():\n",
    "  img_path = \"/content/test/\"\n",
    "  img_name = row[0]\n",
    "  lbl = row[1]\n",
    "  img_path += str(img_name)\n",
    "  img = cv2.imread(img_path)\n",
    "  test_img.append(img)\n",
    "  test_labels.append(lbl)\n",
    "\n",
    "_, X_test, _, y_test = train_test_split(test_img, test_labels, test_size = .99, shuffle=True)"
   ]
  },
  {
   "cell_type": "code",
   "execution_count": null,
   "metadata": {
    "id": "2XYx2Mcf0kZf"
   },
   "outputs": [],
   "source": [
    "hist_list = []\n",
    "\n",
    "for x in range(len(X_test)):\n",
    "    test_img = img_as_ubyte(color.rgb2gray(X_test[x]))\n",
    "    kp, descrip = orb.detectAndCompute(test_img, None)\n",
    "\n",
    "    #  Reapplying the same histogram logic from above\n",
    "    if descrip is not None:\n",
    "        img_hist = np.zeros(cluster)\n",
    "        idx = k_means.predict(descrip)\n",
    "        for y in idx:\n",
    "            img_hist[y] = img_hist[y] + (1 / len(descrip))\n",
    "        hist_list.append(img_hist)\n",
    "    else:\n",
    "        hist_list.append(None)\n",
    "\n",
    "# Removing images with no descriptors\n",
    "idx_not_empty = [i for i, x in enumerate(hist_list) if x is not None]\n",
    "hist_list = [hist_list[i] for i in idx_not_empty]\n",
    "y_test = [y_test[i] for i in idx_not_empty]\n",
    "hist_array = np.vstack(hist_list)"
   ]
  },
  {
   "cell_type": "code",
   "execution_count": null,
   "metadata": {
    "id": "I7JcS_K60oNs"
   },
   "outputs": [],
   "source": [
    "#Prediciting on test data\n",
    "\n",
    "clf_pred = clf.predict(hist_array).tolist()"
   ]
  },
  {
   "cell_type": "code",
   "execution_count": null,
   "metadata": {
    "colab": {
     "base_uri": "https://localhost:8080/"
    },
    "executionInfo": {
     "elapsed": 146365,
     "status": "ok",
     "timestamp": 1619637692298,
     "user": {
      "displayName": "Ziad Al-Ziadi",
      "photoUrl": "",
      "userId": "14694040966387240326"
     },
     "user_tz": -60
    },
    "id": "qdwP9-a80rdV",
    "outputId": "74a782ee-e237-4bd6-a0c0-fac53dbea2e6"
   },
   "outputs": [
    {
     "name": "stdout",
     "output_type": "stream",
     "text": [
      "Classification report for classifier SVC(C=1.0, break_ties=False, cache_size=200, class_weight=None, coef0=0.0,\n",
      "    decision_function_shape='ovr', degree=3, gamma='scale', kernel='rbf',\n",
      "    max_iter=-1, probability=False, random_state=None, shrinking=True,\n",
      "    tol=0.001, verbose=False):\n",
      "                    precision    recall  f1-score   support\n",
      "\n",
      "           1       0.17      0.00      0.01       322\n",
      "           2       0.00      0.00      0.00        74\n",
      "           3       0.00      0.00      0.00       158\n",
      "           4       0.39      0.97      0.56      1136\n",
      "           5       0.44      0.05      0.09       466\n",
      "           6       0.00      0.00      0.00       157\n",
      "           7       0.36      0.05      0.09       648\n",
      "\n",
      "    accuracy                           0.39      2961\n",
      "   macro avg       0.19      0.15      0.10      2961\n",
      "weighted avg       0.32      0.39      0.25      2961\n",
      "\n",
      "\n"
     ]
    },
    {
     "name": "stderr",
     "output_type": "stream",
     "text": [
      "/usr/local/lib/python3.7/dist-packages/sklearn/metrics/_classification.py:1272: UndefinedMetricWarning: Precision and F-score are ill-defined and being set to 0.0 in labels with no predicted samples. Use `zero_division` parameter to control this behavior.\n",
      "  _warn_prf(average, modifier, msg_start, len(result))\n"
     ]
    }
   ],
   "source": [
    "print(f\"\"\"Classification report for classifier {clf}:\n",
    "      {metrics.classification_report(y_test, clf_pred)}\\n\"\"\")"
   ]
  },
  {
   "cell_type": "markdown",
   "metadata": {
    "id": "khoQU76Q0xlY"
   },
   "source": [
    "We can see that our SVM used with ORB has performed relatively poorly with an accuracy of 39% as well as dismal F1 scores. The accuracy is 2% lower than that of the SIFT implementation. One considerable difference was the speed difference in both training and testing - our ORB implementation performed faster than our ORB implementation.\n",
    "\n",
    "Again, we did implement a relatively simply SVM. We will now conduct a grid search on our SVM to see whether we can derive better parameters to use with our ORB descriptor."
   ]
  },
  {
   "cell_type": "code",
   "execution_count": null,
   "metadata": {
    "id": "mfXJIblC0tQ8"
   },
   "outputs": [],
   "source": [
    "# Defining the SVM parameters we would like to tune using grid search\n",
    "\n",
    "svm_params = [\n",
    "    {\"kernel\": [\"linear\", \"poly\", \"rbf\"],\n",
    "    \"C\" : [1, 10]}]"
   ]
  },
  {
   "cell_type": "code",
   "execution_count": null,
   "metadata": {
    "colab": {
     "base_uri": "https://localhost:8080/"
    },
    "executionInfo": {
     "elapsed": 131481,
     "status": "ok",
     "timestamp": 1619638794206,
     "user": {
      "displayName": "Ziad Al-Ziadi",
      "photoUrl": "",
      "userId": "14694040966387240326"
     },
     "user_tz": -60
    },
    "id": "hQdzrj4X0wEP",
    "outputId": "1f987c2e-5892-4f3c-debf-9303cd30be53"
   },
   "outputs": [
    {
     "name": "stdout",
     "output_type": "stream",
     "text": [
      "# Tuning hyper-parameters for recall\n",
      "\n",
      "Best parameters set found on training set:\n",
      "\n",
      "{'C': 10, 'kernel': 'rbf'}\n",
      "\n",
      "Grid scores on training set:\n",
      "\n",
      "0.143 (+/-0.000) for {'C': 1, 'kernel': 'linear'}\n",
      "0.142 (+/-0.004) for {'C': 1, 'kernel': 'poly'}\n",
      "0.148 (+/-0.003) for {'C': 1, 'kernel': 'rbf'}\n",
      "0.143 (+/-0.000) for {'C': 10, 'kernel': 'linear'}\n",
      "0.157 (+/-0.009) for {'C': 10, 'kernel': 'poly'}\n",
      "0.190 (+/-0.010) for {'C': 10, 'kernel': 'rbf'}\n",
      "\n",
      "Classification report for Train set:\n",
      "\n",
      "              precision    recall  f1-score   support\n",
      "\n",
      "           1       0.93      0.83      0.88      1136\n",
      "           2       0.97      0.73      0.84       249\n",
      "           3       1.00      0.74      0.85       626\n",
      "           4       0.86      0.98      0.91      4213\n",
      "           5       0.90      0.87      0.88      1770\n",
      "           6       0.90      0.77      0.83       639\n",
      "           7       0.92      0.88      0.90      2185\n",
      "\n",
      "    accuracy                           0.89     10818\n",
      "   macro avg       0.93      0.83      0.87     10818\n",
      "weighted avg       0.90      0.89      0.89     10818\n",
      "\n",
      "\n",
      "Classification report for Test set:\n",
      "\n",
      "              precision    recall  f1-score   support\n",
      "\n",
      "           1       0.13      0.11      0.12       322\n",
      "           2       0.07      0.01      0.02        74\n",
      "           3       0.06      0.03      0.04       158\n",
      "           4       0.43      0.60      0.50      1136\n",
      "           5       0.22      0.20      0.21       466\n",
      "           6       0.19      0.11      0.14       157\n",
      "           7       0.29      0.24      0.26       648\n",
      "\n",
      "    accuracy                           0.33      2961\n",
      "   macro avg       0.20      0.18      0.18      2961\n",
      "weighted avg       0.29      0.33      0.31      2961\n",
      "\n",
      "\n"
     ]
    }
   ],
   "source": [
    "# The scores our SVM will use\n",
    "\n",
    "scores = ['recall']\n",
    "\n",
    "for score in scores:\n",
    "    print(\"# Tuning hyper-parameters for %s\" % score)\n",
    "    print()\n",
    "\n",
    "    clf = GridSearchCV(\n",
    "        SVC(), svm_params, scoring='%s_macro' % score,  cv =2, n_jobs =-1\n",
    "    )\n",
    "    clf.fit(X_train, y_train)\n",
    "\n",
    "    print(\"Best parameters set found on training set:\")\n",
    "    print()\n",
    "    print(clf.best_params_)\n",
    "    print()\n",
    "    print(\"Grid scores on training set:\")\n",
    "    print()\n",
    "    means = clf.cv_results_['mean_test_score']\n",
    "    stds = clf.cv_results_['std_test_score']\n",
    "    for mean, std, params in zip(means, stds, clf.cv_results_['params']):\n",
    "        print(\"%0.3f (+/-%0.03f) for %r\"\n",
    "              % (mean, std * 2, params))\n",
    "    print()\n",
    "\n",
    "    print(\"Classification report for Train set:\")\n",
    "    print()\n",
    "    y_true_train, y_pred_train = y_train, clf.predict(X_train)\n",
    "    print(classification_report(y_true_train, y_pred_train))\n",
    "    print()\n",
    "\n",
    "    print(\"Classification report for Test set:\")\n",
    "    print()\n",
    "    y_test_, y_pred_test = y_test, clf.predict(hist_array)\n",
    "    print(classification_report(y_test_, y_pred_test))\n",
    "    print()"
   ]
  },
  {
   "cell_type": "markdown",
   "metadata": {
    "id": "dOTXVj3K7BhS"
   },
   "source": [
    "#### We can see that even with hyperparameters used with a grid search. the SVM stil performs poorly across virtually all metrics. For facial recognition problems, the SVM even with ORB applied is most probably not best model."
   ]
  },
  {
   "cell_type": "code",
   "execution_count": null,
   "metadata": {
    "id": "_jT4_3zr1RPS"
   },
   "outputs": [],
   "source": [
    "import pickle\n",
    "\n",
    "with open(\"orb_svm.pkl\", \"wb\") as orb_svm:\n",
    "    pickle.dump(clf, orb_svm)"
   ]
  }
 ],
 "metadata": {
  "colab": {
   "authorship_tag": "ABX9TyPuinGsJzyLl333ZbsJm7lx",
   "collapsed_sections": [],
   "name": "SVM_ORB.ipynb",
   "provenance": []
  },
  "kernelspec": {
   "display_name": "Python 3",
   "language": "python",
   "name": "python3"
  },
  "language_info": {
   "codemirror_mode": {
    "name": "ipython",
    "version": 3
   },
   "file_extension": ".py",
   "mimetype": "text/x-python",
   "name": "python",
   "nbconvert_exporter": "python",
   "pygments_lexer": "ipython3",
   "version": "3.8.11"
  }
 },
 "nbformat": 4,
 "nbformat_minor": 1
}
