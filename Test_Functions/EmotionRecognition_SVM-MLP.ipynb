{
 "cells": [
  {
   "cell_type": "markdown",
   "metadata": {
    "id": "Sb63Wh3qNcY1"
   },
   "source": [
    "# Ziad Al-Ziadi"
   ]
  },
  {
   "cell_type": "markdown",
   "metadata": {
    "id": "OREs82qzNkvs"
   },
   "source": [
    "## Testing our MLP and SVM models with the EmotionRecognition function\n",
    "\n",
    "In the preceding section, we define the EmotionRecognition function to use with the SVM and MLP models we built and trained previously. The models will be loaded in as pickle files."
   ]
  },
  {
   "cell_type": "code",
   "execution_count": null,
   "metadata": {
    "id": "NkgkjUURh6o_"
   },
   "outputs": [],
   "source": [
    "!pip install opencv-python==4.4.0.46"
   ]
  },
  {
   "cell_type": "code",
   "execution_count": null,
   "metadata": {
    "id": "04eMKTLYYNl_"
   },
   "outputs": [],
   "source": [
    "import pandas as pd\n",
    "import numpy as np\n",
    "import seaborn as sns\n",
    "import cv2\n",
    "from skimage.feature import hog\n",
    "from sklearn.model_selection import train_test_split\n",
    "from sklearn.cluster import MiniBatchKMeans\n",
    "import matplotlib.pyplot as plt\n",
    "import random\n",
    "import pickle"
   ]
  },
  {
   "cell_type": "code",
   "execution_count": null,
   "metadata": {
    "id": "KmNsH-AjX6GH"
   },
   "outputs": [],
   "source": [
    "from google.colab import drive\n",
    "drive.mount('/content/drive/')"
   ]
  },
  {
   "cell_type": "code",
   "execution_count": null,
   "metadata": {
    "id": "xkxLF69o-k7s"
   },
   "outputs": [],
   "source": [
    "####### PLEASE DRAG THE \"CV_Submission\" FROM YOUR \"Shared with me\" INTO YOUR \"My Drive\" OTHERWISE THIS WON'T WORK #######\n",
    "\n",
    "import os\n",
    "\n",
    "MY_OWN_PATH = \"/content/drive/MyDrive/CV_Submission/\"\n",
    "MY_OWN_PATH = \"CV_Submission\"\n",
    "FULL_PATH = os.path.join(\"drive\", \"My Drive\", MY_OWN_PATH)\n",
    "print(os.listdir(FULL_PATH))"
   ]
  },
  {
   "cell_type": "code",
   "execution_count": null,
   "metadata": {
    "id": "AgYnKfpugHpJ"
   },
   "outputs": [],
   "source": [
    "zip_path = \"/content/drive/MyDrive/CV_Submission/CW_Dataset.zip\"\n",
    "!cp \"{zip_path}\" .\n",
    "!yes|unzip -q CW_Dataset.zip"
   ]
  },
  {
   "cell_type": "code",
   "execution_count": null,
   "metadata": {
    "id": "BicSViwfsOey"
   },
   "outputs": [],
   "source": [
    "# Creating our dataframe \n",
    "\n",
    "test_image_path = \"/content/test\"\n",
    "test_txt = \"/content/labels/list_label_test.txt\"\n",
    "\n",
    "colnames = [\"Image_id\", \"Label\"]\n",
    "test_lab = pd.read_csv(test_txt, names = colnames, header = None, delim_whitespace = True)\n",
    "\n",
    "test_lab[\"Image_id\"] = test_lab[\"Image_id\"].apply(lambda i: i[:-4])\n",
    "test_lab[\"Image_id\"] = test_lab[\"Image_id\"] + \"_aligned.jpg\"\n",
    "test_lab[\"Label\"] = test_lab[\"Label\"].apply(lambda i: i - 1)\n",
    "test_lab[\"Label\"] = test_lab[\"Label\"].apply(lambda i: i + 1)"
   ]
  },
  {
   "cell_type": "code",
   "execution_count": null,
   "metadata": {
    "id": "dUV617XzYJlf"
   },
   "outputs": [],
   "source": [
    "# Defining our function which takes a model and test dataframe\n",
    "\n",
    "def EmotionRecognition(model , test_path):\n",
    "\n",
    "########################## SVM-HOG AND MLP-HOG ##########################\n",
    "\n",
    "  if model == SVM_HOG or model == MLP_HOG:\n",
    "    test_img = []\n",
    "    labels = []\n",
    "\n",
    "    for i, row in test_path.iterrows():\n",
    "      img_path = \"/content/test/\"\n",
    "      img_name = row[0]\n",
    "      lbl = row[1]\n",
    "      img_path += str(img_name)\n",
    "      img = cv2.imread(img_path)\n",
    "      hog_des = hog(img, orientations = 8, pixels_per_cell = (14, 14),\n",
    "                  cells_per_block = (1,1), visualize = False)\n",
    "\n",
    "      if hog_des is not None:\n",
    "        test_img.append(hog_des)\n",
    "        labels.append(lbl)\n",
    "  \n",
    "    X_test = np.array(test_img)\n",
    "\n",
    "    predicted = model.predict(X_test).tolist()\n",
    "\n",
    "    fig, axes = plt.subplots(1, 4, figsize=(14, 7), sharex=True, sharey=True)\n",
    "    ax = axes.ravel()\n",
    "    emo = {1: \"Surprise\", 2: \"Fear\", 3: \"Disgust\", 4: \"Happiness\", 5: \"Sadness\", 6: \"Anger\", 7: \"Neutral\"}\n",
    "\n",
    "    # Reformatting our image data for easier plotting\n",
    "    test_img = []\n",
    "\n",
    "    for i, row in test_path.iterrows():\n",
    "      img_path = \"/content/test/\"\n",
    "      img_name = row[0]\n",
    "      lbl = row[1]\n",
    "      img_path += str(img_name)\n",
    "      img = cv2.imread(img_path)\n",
    "      if img is not None:\n",
    "        test_img.append(img)\n",
    "\n",
    "    random.shuffle(test_img)\n",
    "    for i in range(4):\n",
    "      ax[i].imshow(test_img[i])\n",
    "      ax[i].set_title(f'Image Label: {emo[labels[i]]} \\n Model Prediction: {emo[predicted[i]]}')\n",
    "      ax[i].set_axis_off()\n",
    "    fig.tight_layout()\n",
    "    plt.show()\n",
    "\n",
    "########################## SVM-SIFT AND MLP-SIFT ##########################\n",
    "\n",
    "  elif model == MLP_SIFT or model == SVM_SIFT:\n",
    "\n",
    "    test_img = []\n",
    "    labels = []\n",
    "\n",
    "    for i, row in test_path.iterrows():\n",
    "      img_path = \"/content/test/\"\n",
    "      img_name = row[0]\n",
    "      lbl = row[1]\n",
    "      img_path += str(img_name)\n",
    "      img = cv2.imread(img_path)\n",
    "      sift = cv2.SIFT_create()\n",
    "      kp, des = sift.detectAndCompute(img, None)\n",
    "      if des is not None:\n",
    "        test_img.append(des)\n",
    "        labels.append(lbl)\n",
    "\n",
    "    sift_hist = np.vstack(test_img)\n",
    "    cluster = 70\n",
    "    batch_size = 178194\n",
    "    k_means = MiniBatchKMeans(n_clusters = cluster, batch_size=batch_size).fit(sift_hist)\n",
    "\n",
    "    img_list = []\n",
    "    for x in test_img:\n",
    "      hist = np.zeros(cluster)\n",
    "      idx = k_means.predict(x)\n",
    "      \n",
    "      for y in idx:\n",
    "        hist[y] = hist[y] + (1 / len(x))\n",
    "      img_list.append(hist)\n",
    "  \n",
    "    X_test = np.array(img_list)\n",
    "\n",
    "    predicted = model.predict(X_test).tolist()\n",
    "\n",
    "    fig, axes = plt.subplots(1, 4, figsize=(14, 7), sharex=True, sharey=True)\n",
    "    ax = axes.ravel()\n",
    "    emo = {1: \"Surprise\", 2: \"Fear\", 3: \"Disgust\", 4: \"Happiness\", 5: \"Sadness\", 6: \"Anger\", 7: \"Neutral\"}\n",
    "\n",
    "    # Reformatting our image data for easier plotting\n",
    "    test_img = []\n",
    "\n",
    "    for i, row in test_path.iterrows():\n",
    "      img_path = \"/content/test/\"\n",
    "      img_name = row[0]\n",
    "      lbl = row[1]\n",
    "      img_path += str(img_name)\n",
    "      img = cv2.imread(img_path)\n",
    "      if img is not None:\n",
    "        test_img.append(img)\n",
    "\n",
    "    random.shuffle(test_img)\n",
    "    for i in range(4):\n",
    "      ax[i].imshow(test_img[i])\n",
    "      ax[i].set_title(f'Image Label: {emo[labels[i]]} \\n Model Prediction: {emo[predicted[i]]}')\n",
    "      ax[i].set_axis_off()\n",
    "    fig.tight_layout()\n",
    "    plt.show()\n",
    "\n",
    "########################## SVM-ORB AND MLP-ORB ##########################\n",
    "\n",
    "  elif model == MLP_ORB or model == SVM_ORB:\n",
    "    \n",
    "    test_img = []\n",
    "    labels = []\n",
    "\n",
    "    for i, row in test_path.iterrows():\n",
    "      img_path = \"/content/test/\"\n",
    "      img_name = row[0]\n",
    "      lbl = row[1]\n",
    "      img_path += str(img_name)\n",
    "      img = cv2.imread(img_path)\n",
    "      orb = cv2.ORB_create()\n",
    "      kp, des = orb.detectAndCompute(img, None)\n",
    "      if des is not None:\n",
    "        test_img.append(des)\n",
    "        labels.append(lbl)\n",
    "\n",
    "    orb_hist = np.vstack(test_img)\n",
    "    cluster = 70\n",
    "    batch_size = 178194\n",
    "    k_means = MiniBatchKMeans(n_clusters = cluster, batch_size=batch_size).fit(orb_hist)\n",
    "\n",
    "    img_list = []\n",
    "\n",
    "    for x in test_img:\n",
    "      hist = np.zeros(cluster)\n",
    "      idx = k_means.predict(x)\n",
    "      \n",
    "      for y in idx:\n",
    "        hist[y] = hist[y] + (1 / len(x))\n",
    "      img_list.append(hist)\n",
    "  \n",
    "    X_test = np.array(img_list)\n",
    "\n",
    "    predicted = model.predict(X_test).tolist()\n",
    "\n",
    "    fig, axes = plt.subplots(1, 4, figsize=(14, 7), sharex=True, sharey=True)\n",
    "    ax = axes.ravel()\n",
    "    emo = {1: \"Surprise\", 2: \"Fear\", 3: \"Disgust\", 4: \"Happiness\", 5: \"Sadness\", 6: \"Anger\", 7: \"Neutral\"}\n",
    "\n",
    "    # Reformatting our image data for easier plotting\n",
    "    test_img = []\n",
    "\n",
    "    for i, row in test_path.iterrows():\n",
    "      img_path = \"/content/test/\"\n",
    "      img_name = row[0]\n",
    "      lbl = row[1]\n",
    "      img_path += str(img_name)\n",
    "      img = cv2.imread(img_path)\n",
    "      if img is not None:\n",
    "        test_img.append(img)\n",
    "\n",
    "    random.shuffle(test_img)\n",
    "    for i in range(4):\n",
    "      ax[i].imshow(test_img[i])\n",
    "      ax[i].set_title(f'Image Label: {emo[labels[i]]} \\n Model Prediction: {emo[predicted[i]]}')\n",
    "      ax[i].set_axis_off()\n",
    "    fig.tight_layout()\n",
    "    plt.show()\n",
    "\n",
    "  else:\n",
    "    print(\"Model not found, check your spelling\")"
   ]
  },
  {
   "cell_type": "code",
   "execution_count": null,
   "metadata": {
    "id": "T8IdXTk2n0r8"
   },
   "outputs": [],
   "source": [
    "########################### Loading our MLP Models ##########################\n",
    "\n",
    "# MLP with SIFT\n",
    "with open(\"/content/drive/MyDrive/CV_Submission/Test Functions/sift_mlp.pkl\", \"rb\") as mlp_sift:\n",
    "    mlpsift = pickle.load(mlp_sift)\n",
    "\n",
    "# MLP with ORB\n",
    "with open(\"/content/drive/MyDrive/CV_Submission/Test Functions/orb_mlp.pkl\", \"rb\") as mlp_orb:\n",
    "    mlporb = pickle.load(mlp_orb)\n",
    "\n",
    "# MLP with HOG\n",
    "with open(\"/content/drive/MyDrive/CV_Submission/Test Functions/hog_mlp.pkl\", \"rb\") as mlp_hog:\n",
    "    mlphog = pickle.load(mlp_hog)\n",
    "\n",
    "########################### Loading our SVM Models ##########################\n",
    "\n",
    "#SVM with SIFT\n",
    "with open(\"/content/drive/MyDrive/CV_Submission/Test Functions/sift_svm.pkl\", \"rb\") as svm_sift:\n",
    "    svmsift = pickle.load(svm_sift)\n",
    "\n",
    "#SVM with ORB\n",
    "with open(\"/content/drive/MyDrive/CV_Submission/Test Functions/orb_svm.pkl\", \"rb\") as svm_orb:\n",
    "    svmorb = pickle.load(svm_orb)\n",
    "\n",
    "#SVM with HOG\n",
    "with open(\"/content/drive/MyDrive/CV_Submission/Test Functions/hog_svm.pkl\", \"rb\") as svm_hog:\n",
    "    svmhog = pickle.load(svm_hog)\n",
    "\n",
    "SVM_SIFT = svmsift\n",
    "SVM_ORB = svmorb\n",
    "SVM_HOG = svmhog\n",
    "\n",
    "MLP_SIFT = mlpsift\n",
    "MLP_ORB = mlporb\n",
    "MLP_HOG = mlphog\n",
    "\n",
    "testPath = test_lab"
   ]
  },
  {
   "cell_type": "code",
   "execution_count": null,
   "metadata": {
    "id": "sV-5pE5CJ-CX"
   },
   "outputs": [],
   "source": [
    "# Testing our EmotionalRecognition function - input a model variable from above to test\n",
    "\n",
    "EmotionRecognition(SVM_HOG ,testPath)"
   ]
  },
  {
   "cell_type": "code",
   "execution_count": null,
   "metadata": {
    "id": "6AuNyo3JIxk5"
   },
   "outputs": [],
   "source": []
  }
 ],
 "metadata": {
  "colab": {
   "authorship_tag": "ABX9TyO7AwF2ekJJwV1TLO4JxY8O",
   "collapsed_sections": [],
   "name": "EmotionRecognition_SVM-MLP.ipynb",
   "provenance": []
  },
  "kernelspec": {
   "display_name": "Python 3",
   "language": "python",
   "name": "python3"
  },
  "language_info": {
   "codemirror_mode": {
    "name": "ipython",
    "version": 3
   },
   "file_extension": ".py",
   "mimetype": "text/x-python",
   "name": "python",
   "nbconvert_exporter": "python",
   "pygments_lexer": "ipython3",
   "version": "3.8.11"
  }
 },
 "nbformat": 4,
 "nbformat_minor": 1
}
